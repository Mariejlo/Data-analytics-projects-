{
  "nbformat": 4,
  "nbformat_minor": 0,
  "metadata": {
    "colab": {
      "provenance": [],
      "authorship_tag": "ABX9TyNAeQQskPGeg1/jtp7gXXm8",
      "include_colab_link": true
    },
    "kernelspec": {
      "name": "python3",
      "display_name": "Python 3"
    },
    "language_info": {
      "name": "python"
    }
  },
  "cells": [
    {
      "cell_type": "markdown",
      "metadata": {
        "id": "view-in-github",
        "colab_type": "text"
      },
      "source": [
        "<a href=\"https://colab.research.google.com/github/Mariejlo/Data-analytics-projects-/blob/main/Telemedicine.ipynb\" target=\"_parent\"><img src=\"https://colab.research.google.com/assets/colab-badge.svg\" alt=\"Open In Colab\"/></a>"
      ]
    },
    {
      "cell_type": "markdown",
      "source": [
        "REDI final project Telemedicine"
      ],
      "metadata": {
        "id": "avSykMhaxF2V"
      }
    },
    {
      "cell_type": "code",
      "execution_count": 1,
      "metadata": {
        "id": "pDHv0JzCxDLg"
      },
      "outputs": [],
      "source": [
        "#Environment\n",
        "import pandas as pd\n",
        "import matplotlib.pyplot as plt\n",
        "import seaborn as sns\n",
        "import numpy as np"
      ]
    },
    {
      "cell_type": "code",
      "source": [
        "#Load data\n",
        "df =pd.read_csv('/content/Readmissions_and_Deaths_-_Hospital.csv')"
      ],
      "metadata": {
        "id": "2ACWdDF1xu4i"
      },
      "execution_count": 2,
      "outputs": []
    },
    {
      "cell_type": "code",
      "source": [
        "#Display first rows\n",
        "df.head()"
      ],
      "metadata": {
        "colab": {
          "base_uri": "https://localhost:8080/",
          "height": 608
        },
        "id": "hrsd0I_Tx1rb",
        "outputId": "1532005f-c02e-4dd1-bd9b-7c96c4d2ca82"
      },
      "execution_count": 5,
      "outputs": [
        {
          "output_type": "execute_result",
          "data": {
            "text/plain": [
              "   index  Provider ID             Hospital Name                   Address  \\\n",
              "0      0       230100  TAWAS ST JOSEPH HOSPITAL               200 HEMLOCK   \n",
              "1      1       230121       MEMORIAL HEALTHCARE      826 WEST KING STREET   \n",
              "2      2       230118      HURON MEDICAL CENTER  1100 SOUTH VAN DYKE ROAD   \n",
              "3      3       230121       MEMORIAL HEALTHCARE      826 WEST KING STREET   \n",
              "4      4       230133  OTSEGO MEMORIAL HOSPITAL          825 N CENTER AVE   \n",
              "\n",
              "         City State  ZIP Code County Name  Phone Number  \\\n",
              "0  TAWAS CITY    MI     48764       IOSCO    9893629301   \n",
              "1      OWOSSO    MI     48867  SHIAWASSEE    9897235211   \n",
              "2     BAD AXE    MI     48413       HURON    9892699521   \n",
              "3      OWOSSO    MI     48867  SHIAWASSEE    9897235211   \n",
              "4     GAYLORD    MI     49735      OTSEGO    9897312100   \n",
              "\n",
              "                                        Measure Name          Measure ID  \\\n",
              "0  Rate of readmission after discharge from hospi...  READM_30_HOSP_WIDE   \n",
              "1     Rate of readmission after hip/knee replacement   READM_30_HIP_KNEE   \n",
              "2             Pneumonia (PN) 30-Day Readmission Rate         READM_30_PN   \n",
              "3            Rate of readmission for stroke patients        READM_30_STK   \n",
              "4           Heart failure (HF) 30-Day Mortality Rate          MORT_30_HF   \n",
              "\n",
              "                  Compared to National Denominator Score Lower Estimate  \\\n",
              "0  No Different than the National Rate         438  13.9           12.6   \n",
              "1  No Different than the National Rate         150   4.0            2.8   \n",
              "2  No Different than the National Rate         205  16.7           13.8   \n",
              "3  No Different than the National Rate          67  11.5            8.7   \n",
              "4  No Different than the National Rate         102  13.4            9.9   \n",
              "\n",
              "  Higher Estimate Footnote Measure Start Date Measure End Date  \\\n",
              "0            15.6      NaN         07/01/2014       06/30/2015   \n",
              "1             5.7      NaN         07/01/2012       06/30/2015   \n",
              "2            19.9      NaN         07/01/2012       06/30/2015   \n",
              "3            14.9      NaN         07/01/2012       06/30/2015   \n",
              "4            17.7      NaN         07/01/2012       06/30/2015   \n",
              "\n",
              "                                            Location  \n",
              "0  200 HEMLOCK\\nTAWAS CITY, MI 48764\\n(44.274911,...  \n",
              "1  826 WEST KING STREET\\nOWOSSO, MI 48867\\n(43.00...  \n",
              "2  1100 SOUTH VAN DYKE ROAD\\nBAD AXE, MI 48413\\n(...  \n",
              "3  826 WEST KING STREET\\nOWOSSO, MI 48867\\n(43.00...  \n",
              "4  825 N CENTER AVE\\nGAYLORD, MI 49735\\n(45.03537...  "
            ],
            "text/html": [
              "\n",
              "  <div id=\"df-030aa442-7711-40df-ac7c-e1f6922c6bec\" class=\"colab-df-container\">\n",
              "    <div>\n",
              "<style scoped>\n",
              "    .dataframe tbody tr th:only-of-type {\n",
              "        vertical-align: middle;\n",
              "    }\n",
              "\n",
              "    .dataframe tbody tr th {\n",
              "        vertical-align: top;\n",
              "    }\n",
              "\n",
              "    .dataframe thead th {\n",
              "        text-align: right;\n",
              "    }\n",
              "</style>\n",
              "<table border=\"1\" class=\"dataframe\">\n",
              "  <thead>\n",
              "    <tr style=\"text-align: right;\">\n",
              "      <th></th>\n",
              "      <th>index</th>\n",
              "      <th>Provider ID</th>\n",
              "      <th>Hospital Name</th>\n",
              "      <th>Address</th>\n",
              "      <th>City</th>\n",
              "      <th>State</th>\n",
              "      <th>ZIP Code</th>\n",
              "      <th>County Name</th>\n",
              "      <th>Phone Number</th>\n",
              "      <th>Measure Name</th>\n",
              "      <th>Measure ID</th>\n",
              "      <th>Compared to National</th>\n",
              "      <th>Denominator</th>\n",
              "      <th>Score</th>\n",
              "      <th>Lower Estimate</th>\n",
              "      <th>Higher Estimate</th>\n",
              "      <th>Footnote</th>\n",
              "      <th>Measure Start Date</th>\n",
              "      <th>Measure End Date</th>\n",
              "      <th>Location</th>\n",
              "    </tr>\n",
              "  </thead>\n",
              "  <tbody>\n",
              "    <tr>\n",
              "      <th>0</th>\n",
              "      <td>0</td>\n",
              "      <td>230100</td>\n",
              "      <td>TAWAS ST JOSEPH HOSPITAL</td>\n",
              "      <td>200 HEMLOCK</td>\n",
              "      <td>TAWAS CITY</td>\n",
              "      <td>MI</td>\n",
              "      <td>48764</td>\n",
              "      <td>IOSCO</td>\n",
              "      <td>9893629301</td>\n",
              "      <td>Rate of readmission after discharge from hospi...</td>\n",
              "      <td>READM_30_HOSP_WIDE</td>\n",
              "      <td>No Different than the National Rate</td>\n",
              "      <td>438</td>\n",
              "      <td>13.9</td>\n",
              "      <td>12.6</td>\n",
              "      <td>15.6</td>\n",
              "      <td>NaN</td>\n",
              "      <td>07/01/2014</td>\n",
              "      <td>06/30/2015</td>\n",
              "      <td>200 HEMLOCK\\nTAWAS CITY, MI 48764\\n(44.274911,...</td>\n",
              "    </tr>\n",
              "    <tr>\n",
              "      <th>1</th>\n",
              "      <td>1</td>\n",
              "      <td>230121</td>\n",
              "      <td>MEMORIAL HEALTHCARE</td>\n",
              "      <td>826 WEST KING STREET</td>\n",
              "      <td>OWOSSO</td>\n",
              "      <td>MI</td>\n",
              "      <td>48867</td>\n",
              "      <td>SHIAWASSEE</td>\n",
              "      <td>9897235211</td>\n",
              "      <td>Rate of readmission after hip/knee replacement</td>\n",
              "      <td>READM_30_HIP_KNEE</td>\n",
              "      <td>No Different than the National Rate</td>\n",
              "      <td>150</td>\n",
              "      <td>4.0</td>\n",
              "      <td>2.8</td>\n",
              "      <td>5.7</td>\n",
              "      <td>NaN</td>\n",
              "      <td>07/01/2012</td>\n",
              "      <td>06/30/2015</td>\n",
              "      <td>826 WEST KING STREET\\nOWOSSO, MI 48867\\n(43.00...</td>\n",
              "    </tr>\n",
              "    <tr>\n",
              "      <th>2</th>\n",
              "      <td>2</td>\n",
              "      <td>230118</td>\n",
              "      <td>HURON MEDICAL CENTER</td>\n",
              "      <td>1100 SOUTH VAN DYKE ROAD</td>\n",
              "      <td>BAD AXE</td>\n",
              "      <td>MI</td>\n",
              "      <td>48413</td>\n",
              "      <td>HURON</td>\n",
              "      <td>9892699521</td>\n",
              "      <td>Pneumonia (PN) 30-Day Readmission Rate</td>\n",
              "      <td>READM_30_PN</td>\n",
              "      <td>No Different than the National Rate</td>\n",
              "      <td>205</td>\n",
              "      <td>16.7</td>\n",
              "      <td>13.8</td>\n",
              "      <td>19.9</td>\n",
              "      <td>NaN</td>\n",
              "      <td>07/01/2012</td>\n",
              "      <td>06/30/2015</td>\n",
              "      <td>1100 SOUTH VAN DYKE ROAD\\nBAD AXE, MI 48413\\n(...</td>\n",
              "    </tr>\n",
              "    <tr>\n",
              "      <th>3</th>\n",
              "      <td>3</td>\n",
              "      <td>230121</td>\n",
              "      <td>MEMORIAL HEALTHCARE</td>\n",
              "      <td>826 WEST KING STREET</td>\n",
              "      <td>OWOSSO</td>\n",
              "      <td>MI</td>\n",
              "      <td>48867</td>\n",
              "      <td>SHIAWASSEE</td>\n",
              "      <td>9897235211</td>\n",
              "      <td>Rate of readmission for stroke patients</td>\n",
              "      <td>READM_30_STK</td>\n",
              "      <td>No Different than the National Rate</td>\n",
              "      <td>67</td>\n",
              "      <td>11.5</td>\n",
              "      <td>8.7</td>\n",
              "      <td>14.9</td>\n",
              "      <td>NaN</td>\n",
              "      <td>07/01/2012</td>\n",
              "      <td>06/30/2015</td>\n",
              "      <td>826 WEST KING STREET\\nOWOSSO, MI 48867\\n(43.00...</td>\n",
              "    </tr>\n",
              "    <tr>\n",
              "      <th>4</th>\n",
              "      <td>4</td>\n",
              "      <td>230133</td>\n",
              "      <td>OTSEGO MEMORIAL HOSPITAL</td>\n",
              "      <td>825 N CENTER AVE</td>\n",
              "      <td>GAYLORD</td>\n",
              "      <td>MI</td>\n",
              "      <td>49735</td>\n",
              "      <td>OTSEGO</td>\n",
              "      <td>9897312100</td>\n",
              "      <td>Heart failure (HF) 30-Day Mortality Rate</td>\n",
              "      <td>MORT_30_HF</td>\n",
              "      <td>No Different than the National Rate</td>\n",
              "      <td>102</td>\n",
              "      <td>13.4</td>\n",
              "      <td>9.9</td>\n",
              "      <td>17.7</td>\n",
              "      <td>NaN</td>\n",
              "      <td>07/01/2012</td>\n",
              "      <td>06/30/2015</td>\n",
              "      <td>825 N CENTER AVE\\nGAYLORD, MI 49735\\n(45.03537...</td>\n",
              "    </tr>\n",
              "  </tbody>\n",
              "</table>\n",
              "</div>\n",
              "    <div class=\"colab-df-buttons\">\n",
              "\n",
              "  <div class=\"colab-df-container\">\n",
              "    <button class=\"colab-df-convert\" onclick=\"convertToInteractive('df-030aa442-7711-40df-ac7c-e1f6922c6bec')\"\n",
              "            title=\"Convert this dataframe to an interactive table.\"\n",
              "            style=\"display:none;\">\n",
              "\n",
              "  <svg xmlns=\"http://www.w3.org/2000/svg\" height=\"24px\" viewBox=\"0 -960 960 960\">\n",
              "    <path d=\"M120-120v-720h720v720H120Zm60-500h600v-160H180v160Zm220 220h160v-160H400v160Zm0 220h160v-160H400v160ZM180-400h160v-160H180v160Zm440 0h160v-160H620v160ZM180-180h160v-160H180v160Zm440 0h160v-160H620v160Z\"/>\n",
              "  </svg>\n",
              "    </button>\n",
              "\n",
              "  <style>\n",
              "    .colab-df-container {\n",
              "      display:flex;\n",
              "      gap: 12px;\n",
              "    }\n",
              "\n",
              "    .colab-df-convert {\n",
              "      background-color: #E8F0FE;\n",
              "      border: none;\n",
              "      border-radius: 50%;\n",
              "      cursor: pointer;\n",
              "      display: none;\n",
              "      fill: #1967D2;\n",
              "      height: 32px;\n",
              "      padding: 0 0 0 0;\n",
              "      width: 32px;\n",
              "    }\n",
              "\n",
              "    .colab-df-convert:hover {\n",
              "      background-color: #E2EBFA;\n",
              "      box-shadow: 0px 1px 2px rgba(60, 64, 67, 0.3), 0px 1px 3px 1px rgba(60, 64, 67, 0.15);\n",
              "      fill: #174EA6;\n",
              "    }\n",
              "\n",
              "    .colab-df-buttons div {\n",
              "      margin-bottom: 4px;\n",
              "    }\n",
              "\n",
              "    [theme=dark] .colab-df-convert {\n",
              "      background-color: #3B4455;\n",
              "      fill: #D2E3FC;\n",
              "    }\n",
              "\n",
              "    [theme=dark] .colab-df-convert:hover {\n",
              "      background-color: #434B5C;\n",
              "      box-shadow: 0px 1px 3px 1px rgba(0, 0, 0, 0.15);\n",
              "      filter: drop-shadow(0px 1px 2px rgba(0, 0, 0, 0.3));\n",
              "      fill: #FFFFFF;\n",
              "    }\n",
              "  </style>\n",
              "\n",
              "    <script>\n",
              "      const buttonEl =\n",
              "        document.querySelector('#df-030aa442-7711-40df-ac7c-e1f6922c6bec button.colab-df-convert');\n",
              "      buttonEl.style.display =\n",
              "        google.colab.kernel.accessAllowed ? 'block' : 'none';\n",
              "\n",
              "      async function convertToInteractive(key) {\n",
              "        const element = document.querySelector('#df-030aa442-7711-40df-ac7c-e1f6922c6bec');\n",
              "        const dataTable =\n",
              "          await google.colab.kernel.invokeFunction('convertToInteractive',\n",
              "                                                    [key], {});\n",
              "        if (!dataTable) return;\n",
              "\n",
              "        const docLinkHtml = 'Like what you see? Visit the ' +\n",
              "          '<a target=\"_blank\" href=https://colab.research.google.com/notebooks/data_table.ipynb>data table notebook</a>'\n",
              "          + ' to learn more about interactive tables.';\n",
              "        element.innerHTML = '';\n",
              "        dataTable['output_type'] = 'display_data';\n",
              "        await google.colab.output.renderOutput(dataTable, element);\n",
              "        const docLink = document.createElement('div');\n",
              "        docLink.innerHTML = docLinkHtml;\n",
              "        element.appendChild(docLink);\n",
              "      }\n",
              "    </script>\n",
              "  </div>\n",
              "\n",
              "\n",
              "<div id=\"df-3fb05212-ed14-4fec-a09c-92833b0d591b\">\n",
              "  <button class=\"colab-df-quickchart\" onclick=\"quickchart('df-3fb05212-ed14-4fec-a09c-92833b0d591b')\"\n",
              "            title=\"Suggest charts\"\n",
              "            style=\"display:none;\">\n",
              "\n",
              "<svg xmlns=\"http://www.w3.org/2000/svg\" height=\"24px\"viewBox=\"0 0 24 24\"\n",
              "     width=\"24px\">\n",
              "    <g>\n",
              "        <path d=\"M19 3H5c-1.1 0-2 .9-2 2v14c0 1.1.9 2 2 2h14c1.1 0 2-.9 2-2V5c0-1.1-.9-2-2-2zM9 17H7v-7h2v7zm4 0h-2V7h2v10zm4 0h-2v-4h2v4z\"/>\n",
              "    </g>\n",
              "</svg>\n",
              "  </button>\n",
              "\n",
              "<style>\n",
              "  .colab-df-quickchart {\n",
              "      --bg-color: #E8F0FE;\n",
              "      --fill-color: #1967D2;\n",
              "      --hover-bg-color: #E2EBFA;\n",
              "      --hover-fill-color: #174EA6;\n",
              "      --disabled-fill-color: #AAA;\n",
              "      --disabled-bg-color: #DDD;\n",
              "  }\n",
              "\n",
              "  [theme=dark] .colab-df-quickchart {\n",
              "      --bg-color: #3B4455;\n",
              "      --fill-color: #D2E3FC;\n",
              "      --hover-bg-color: #434B5C;\n",
              "      --hover-fill-color: #FFFFFF;\n",
              "      --disabled-bg-color: #3B4455;\n",
              "      --disabled-fill-color: #666;\n",
              "  }\n",
              "\n",
              "  .colab-df-quickchart {\n",
              "    background-color: var(--bg-color);\n",
              "    border: none;\n",
              "    border-radius: 50%;\n",
              "    cursor: pointer;\n",
              "    display: none;\n",
              "    fill: var(--fill-color);\n",
              "    height: 32px;\n",
              "    padding: 0;\n",
              "    width: 32px;\n",
              "  }\n",
              "\n",
              "  .colab-df-quickchart:hover {\n",
              "    background-color: var(--hover-bg-color);\n",
              "    box-shadow: 0 1px 2px rgba(60, 64, 67, 0.3), 0 1px 3px 1px rgba(60, 64, 67, 0.15);\n",
              "    fill: var(--button-hover-fill-color);\n",
              "  }\n",
              "\n",
              "  .colab-df-quickchart-complete:disabled,\n",
              "  .colab-df-quickchart-complete:disabled:hover {\n",
              "    background-color: var(--disabled-bg-color);\n",
              "    fill: var(--disabled-fill-color);\n",
              "    box-shadow: none;\n",
              "  }\n",
              "\n",
              "  .colab-df-spinner {\n",
              "    border: 2px solid var(--fill-color);\n",
              "    border-color: transparent;\n",
              "    border-bottom-color: var(--fill-color);\n",
              "    animation:\n",
              "      spin 1s steps(1) infinite;\n",
              "  }\n",
              "\n",
              "  @keyframes spin {\n",
              "    0% {\n",
              "      border-color: transparent;\n",
              "      border-bottom-color: var(--fill-color);\n",
              "      border-left-color: var(--fill-color);\n",
              "    }\n",
              "    20% {\n",
              "      border-color: transparent;\n",
              "      border-left-color: var(--fill-color);\n",
              "      border-top-color: var(--fill-color);\n",
              "    }\n",
              "    30% {\n",
              "      border-color: transparent;\n",
              "      border-left-color: var(--fill-color);\n",
              "      border-top-color: var(--fill-color);\n",
              "      border-right-color: var(--fill-color);\n",
              "    }\n",
              "    40% {\n",
              "      border-color: transparent;\n",
              "      border-right-color: var(--fill-color);\n",
              "      border-top-color: var(--fill-color);\n",
              "    }\n",
              "    60% {\n",
              "      border-color: transparent;\n",
              "      border-right-color: var(--fill-color);\n",
              "    }\n",
              "    80% {\n",
              "      border-color: transparent;\n",
              "      border-right-color: var(--fill-color);\n",
              "      border-bottom-color: var(--fill-color);\n",
              "    }\n",
              "    90% {\n",
              "      border-color: transparent;\n",
              "      border-bottom-color: var(--fill-color);\n",
              "    }\n",
              "  }\n",
              "</style>\n",
              "\n",
              "  <script>\n",
              "    async function quickchart(key) {\n",
              "      const quickchartButtonEl =\n",
              "        document.querySelector('#' + key + ' button');\n",
              "      quickchartButtonEl.disabled = true;  // To prevent multiple clicks.\n",
              "      quickchartButtonEl.classList.add('colab-df-spinner');\n",
              "      try {\n",
              "        const charts = await google.colab.kernel.invokeFunction(\n",
              "            'suggestCharts', [key], {});\n",
              "      } catch (error) {\n",
              "        console.error('Error during call to suggestCharts:', error);\n",
              "      }\n",
              "      quickchartButtonEl.classList.remove('colab-df-spinner');\n",
              "      quickchartButtonEl.classList.add('colab-df-quickchart-complete');\n",
              "    }\n",
              "    (() => {\n",
              "      let quickchartButtonEl =\n",
              "        document.querySelector('#df-3fb05212-ed14-4fec-a09c-92833b0d591b button');\n",
              "      quickchartButtonEl.style.display =\n",
              "        google.colab.kernel.accessAllowed ? 'block' : 'none';\n",
              "    })();\n",
              "  </script>\n",
              "</div>\n",
              "    </div>\n",
              "  </div>\n"
            ],
            "application/vnd.google.colaboratory.intrinsic+json": {
              "type": "dataframe",
              "variable_name": "df",
              "summary": "{\n  \"name\": \"df\",\n  \"rows\": 64764,\n  \"fields\": [\n    {\n      \"column\": \"index\",\n      \"properties\": {\n        \"dtype\": \"number\",\n        \"std\": 18695,\n        \"min\": 0,\n        \"max\": 64763,\n        \"num_unique_values\": 64764,\n        \"samples\": [\n          63315,\n          44580,\n          19400\n        ],\n        \"semantic_type\": \"\",\n        \"description\": \"\"\n      }\n    },\n    {\n      \"column\": \"Provider ID\",\n      \"properties\": {\n        \"dtype\": \"number\",\n        \"std\": 155729,\n        \"min\": 10001,\n        \"max\": 670108,\n        \"num_unique_values\": 4626,\n        \"samples\": [\n          210023,\n          330229,\n          100007\n        ],\n        \"semantic_type\": \"\",\n        \"description\": \"\"\n      }\n    },\n    {\n      \"column\": \"Hospital Name\",\n      \"properties\": {\n        \"dtype\": \"category\",\n        \"num_unique_values\": 4434,\n        \"samples\": [\n          \"ST VINCENT'S MEDICAL CENTER SOUTHSIDE\",\n          \"CAPITAL HEALTH SYSTEM-FULD CAMPUS\",\n          \"WELLSTAR COBB HOSPITAL\"\n        ],\n        \"semantic_type\": \"\",\n        \"description\": \"\"\n      }\n    },\n    {\n      \"column\": \"Address\",\n      \"properties\": {\n        \"dtype\": \"category\",\n        \"num_unique_values\": 4598,\n        \"samples\": [\n          \"1000 NORTH SHENANDOAH AVE\",\n          \"2801 DEKALB MEDICAL PARKWAY\",\n          \"4081 E OLYMPIC BLVD\"\n        ],\n        \"semantic_type\": \"\",\n        \"description\": \"\"\n      }\n    },\n    {\n      \"column\": \"City\",\n      \"properties\": {\n        \"dtype\": \"category\",\n        \"num_unique_values\": 2875,\n        \"samples\": [\n          \"HUNTINGTON\",\n          \"WINNER\",\n          \"MORGANTOWN\"\n        ],\n        \"semantic_type\": \"\",\n        \"description\": \"\"\n      }\n    },\n    {\n      \"column\": \"State\",\n      \"properties\": {\n        \"dtype\": \"category\",\n        \"num_unique_values\": 55,\n        \"samples\": [\n          \"IN\",\n          \"MN\",\n          \"PR\"\n        ],\n        \"semantic_type\": \"\",\n        \"description\": \"\"\n      }\n    },\n    {\n      \"column\": \"ZIP Code\",\n      \"properties\": {\n        \"dtype\": \"number\",\n        \"std\": 26916,\n        \"min\": 603,\n        \"max\": 99929,\n        \"num_unique_values\": 4285,\n        \"samples\": [\n          79415,\n          66434,\n          21287\n        ],\n        \"semantic_type\": \"\",\n        \"description\": \"\"\n      }\n    },\n    {\n      \"column\": \"County Name\",\n      \"properties\": {\n        \"dtype\": \"category\",\n        \"num_unique_values\": 1524,\n        \"samples\": [\n          \"LEXINGTON\",\n          \"ISANTI\",\n          \"JEROME\"\n        ],\n        \"semantic_type\": \"\",\n        \"description\": \"\"\n      }\n    },\n    {\n      \"column\": \"Phone Number\",\n      \"properties\": {\n        \"dtype\": \"number\",\n        \"std\": 2331478863,\n        \"min\": 936933841,\n        \"max\": 9898943000,\n        \"num_unique_values\": 4615,\n        \"samples\": [\n          8028470000,\n          4237847252,\n          9857853644\n        ],\n        \"semantic_type\": \"\",\n        \"description\": \"\"\n      }\n    },\n    {\n      \"column\": \"Measure Name\",\n      \"properties\": {\n        \"dtype\": \"category\",\n        \"num_unique_values\": 14,\n        \"samples\": [\n          \"Acute Myocardial Infarction (AMI) 30-Day Mortality Rate\",\n          \"Death rate for stroke patients\",\n          \"Rate of readmission after discharge from hospital (hospital-wide)\"\n        ],\n        \"semantic_type\": \"\",\n        \"description\": \"\"\n      }\n    },\n    {\n      \"column\": \"Measure ID\",\n      \"properties\": {\n        \"dtype\": \"category\",\n        \"num_unique_values\": 14,\n        \"samples\": [\n          \"MORT_30_AMI\",\n          \"MORT_30_STK\",\n          \"READM_30_HOSP_WIDE\"\n        ],\n        \"semantic_type\": \"\",\n        \"description\": \"\"\n      }\n    },\n    {\n      \"column\": \"Compared to National\",\n      \"properties\": {\n        \"dtype\": \"category\",\n        \"num_unique_values\": 5,\n        \"samples\": [\n          \"Worse than the National Rate\",\n          \"Number of Cases Too Small\",\n          \"Better than the National Rate\"\n        ],\n        \"semantic_type\": \"\",\n        \"description\": \"\"\n      }\n    },\n    {\n      \"column\": \"Denominator\",\n      \"properties\": {\n        \"dtype\": \"category\",\n        \"num_unique_values\": 2772,\n        \"samples\": [\n          \"1044\",\n          \"3113\",\n          \"4759\"\n        ],\n        \"semantic_type\": \"\",\n        \"description\": \"\"\n      }\n    },\n    {\n      \"column\": \"Score\",\n      \"properties\": {\n        \"dtype\": \"category\",\n        \"num_unique_values\": 259,\n        \"samples\": [\n          \"3.3\",\n          \"4.4\",\n          \"8.2\"\n        ],\n        \"semantic_type\": \"\",\n        \"description\": \"\"\n      }\n    },\n    {\n      \"column\": \"Lower Estimate\",\n      \"properties\": {\n        \"dtype\": \"category\",\n        \"num_unique_values\": 238,\n        \"samples\": [\n          \"5.5\",\n          \"Not Available\",\n          \"23.5\"\n        ],\n        \"semantic_type\": \"\",\n        \"description\": \"\"\n      }\n    },\n    {\n      \"column\": \"Higher Estimate\",\n      \"properties\": {\n        \"dtype\": \"category\",\n        \"num_unique_values\": 292,\n        \"samples\": [\n          \"26.1\",\n          \"3.3\",\n          \"7.3\"\n        ],\n        \"semantic_type\": \"\",\n        \"description\": \"\"\n      }\n    },\n    {\n      \"column\": \"Footnote\",\n      \"properties\": {\n        \"dtype\": \"category\",\n        \"num_unique_values\": 4,\n        \"samples\": [\n          \"1 - The number of cases/patients is too few to report.\",\n          \"4 - Data suppressed by CMS for one or more quarters.\",\n          \"5 - Results are not available for this reporting period.\"\n        ],\n        \"semantic_type\": \"\",\n        \"description\": \"\"\n      }\n    },\n    {\n      \"column\": \"Measure Start Date\",\n      \"properties\": {\n        \"dtype\": \"object\",\n        \"num_unique_values\": 2,\n        \"samples\": [\n          \"07/01/2012\",\n          \"07/01/2014\"\n        ],\n        \"semantic_type\": \"\",\n        \"description\": \"\"\n      }\n    },\n    {\n      \"column\": \"Measure End Date\",\n      \"properties\": {\n        \"dtype\": \"object\",\n        \"num_unique_values\": 1,\n        \"samples\": [\n          \"06/30/2015\"\n        ],\n        \"semantic_type\": \"\",\n        \"description\": \"\"\n      }\n    },\n    {\n      \"column\": \"Location\",\n      \"properties\": {\n        \"dtype\": \"category\",\n        \"num_unique_values\": 4625,\n        \"samples\": [\n          \"1000 HIGHWAY 12\\nHETTINGER, ND 58639\\n(46.001196, -102.630886)\"\n        ],\n        \"semantic_type\": \"\",\n        \"description\": \"\"\n      }\n    }\n  ]\n}"
            }
          },
          "metadata": {},
          "execution_count": 5
        }
      ]
    },
    {
      "cell_type": "code",
      "source": [
        "#Check data types and non-null counts\n",
        "df.info()"
      ],
      "metadata": {
        "colab": {
          "base_uri": "https://localhost:8080/"
        },
        "id": "WM7wGRJD1vck",
        "outputId": "3ff10938-eca4-4970-eafe-6e6d0d88dfbd"
      },
      "execution_count": 6,
      "outputs": [
        {
          "output_type": "stream",
          "name": "stdout",
          "text": [
            "<class 'pandas.core.frame.DataFrame'>\n",
            "RangeIndex: 64764 entries, 0 to 64763\n",
            "Data columns (total 20 columns):\n",
            " #   Column                Non-Null Count  Dtype \n",
            "---  ------                --------------  ----- \n",
            " 0   index                 64764 non-null  int64 \n",
            " 1   Provider ID           64764 non-null  int64 \n",
            " 2   Hospital Name         64764 non-null  object\n",
            " 3   Address               64764 non-null  object\n",
            " 4   City                  64764 non-null  object\n",
            " 5   State                 64764 non-null  object\n",
            " 6   ZIP Code              64764 non-null  int64 \n",
            " 7   County Name           64582 non-null  object\n",
            " 8   Phone Number          64764 non-null  int64 \n",
            " 9   Measure Name          64764 non-null  object\n",
            " 10  Measure ID            64764 non-null  object\n",
            " 11  Compared to National  64764 non-null  object\n",
            " 12  Denominator           64764 non-null  object\n",
            " 13  Score                 64764 non-null  object\n",
            " 14  Lower Estimate        64764 non-null  object\n",
            " 15  Higher Estimate       64764 non-null  object\n",
            " 16  Footnote              22979 non-null  object\n",
            " 17  Measure Start Date    64764 non-null  object\n",
            " 18  Measure End Date      64764 non-null  object\n",
            " 19  Location              64764 non-null  object\n",
            "dtypes: int64(4), object(16)\n",
            "memory usage: 9.9+ MB\n"
          ]
        }
      ]
    },
    {
      "cell_type": "code",
      "source": [
        "#Check for missing values\n",
        "missing_values = df.isnull().sum()\n",
        "missing_values"
      ],
      "metadata": {
        "colab": {
          "base_uri": "https://localhost:8080/"
        },
        "id": "4GSSu4hp2E_X",
        "outputId": "3be25142-ab2d-429f-a013-e1920cd45f42"
      },
      "execution_count": 7,
      "outputs": [
        {
          "output_type": "execute_result",
          "data": {
            "text/plain": [
              "index                       0\n",
              "Provider ID                 0\n",
              "Hospital Name               0\n",
              "Address                     0\n",
              "City                        0\n",
              "State                       0\n",
              "ZIP Code                    0\n",
              "County Name               182\n",
              "Phone Number                0\n",
              "Measure Name                0\n",
              "Measure ID                  0\n",
              "Compared to National        0\n",
              "Denominator                 0\n",
              "Score                       0\n",
              "Lower Estimate              0\n",
              "Higher Estimate             0\n",
              "Footnote                41785\n",
              "Measure Start Date          0\n",
              "Measure End Date            0\n",
              "Location                    0\n",
              "dtype: int64"
            ]
          },
          "metadata": {},
          "execution_count": 7
        }
      ]
    },
    {
      "cell_type": "markdown",
      "source": [
        "Handleling missing values to clean dataset"
      ],
      "metadata": {
        "id": "N2ODiU-f2g-e"
      }
    },
    {
      "cell_type": "code",
      "source": [
        "#Fill missing values with 'Unknown'\n",
        "df['County Name'].fillna('Unknown', inplace=True)"
      ],
      "metadata": {
        "id": "HyfKQMxl2fM5"
      },
      "execution_count": 8,
      "outputs": []
    },
    {
      "cell_type": "code",
      "source": [
        "#Missing values in Footnote, helps calculate % of missing values\n",
        "footnote_missing_percentage = df['Footnote'].isnull().mean() * 100\n",
        "print(f\"Percentage of missing 'Footnote' values: {footnote_missing_percentage:.2f}%\")"
      ],
      "metadata": {
        "colab": {
          "base_uri": "https://localhost:8080/"
        },
        "id": "e9nRBP7d20tD",
        "outputId": "2f10cb50-43fd-472a-c9ec-bec10955d19d"
      },
      "execution_count": 9,
      "outputs": [
        {
          "output_type": "stream",
          "name": "stdout",
          "text": [
            "Percentage of missing 'Footnote' values: 64.52%\n"
          ]
        }
      ]
    },
    {
      "cell_type": "code",
      "source": [
        "#Too many missing values therefore drop Footnote\n",
        "if footnote_missing_percentage > 50:\n",
        "    df.drop(columns=['Footnote'], inplace=True)"
      ],
      "metadata": {
        "id": "-NzyFUxq3HEe"
      },
      "execution_count": 10,
      "outputs": []
    },
    {
      "cell_type": "code",
      "source": [
        "# Verify missing values handling\n",
        "df.isnull().sum()"
      ],
      "metadata": {
        "colab": {
          "base_uri": "https://localhost:8080/"
        },
        "id": "1PSWNTNE3ROO",
        "outputId": "1c356b3d-9705-4ab1-e8fe-6d659a505715"
      },
      "execution_count": 11,
      "outputs": [
        {
          "output_type": "execute_result",
          "data": {
            "text/plain": [
              "index                   0\n",
              "Provider ID             0\n",
              "Hospital Name           0\n",
              "Address                 0\n",
              "City                    0\n",
              "State                   0\n",
              "ZIP Code                0\n",
              "County Name             0\n",
              "Phone Number            0\n",
              "Measure Name            0\n",
              "Measure ID              0\n",
              "Compared to National    0\n",
              "Denominator             0\n",
              "Score                   0\n",
              "Lower Estimate          0\n",
              "Higher Estimate         0\n",
              "Measure Start Date      0\n",
              "Measure End Date        0\n",
              "Location                0\n",
              "dtype: int64"
            ]
          },
          "metadata": {},
          "execution_count": 11
        }
      ]
    },
    {
      "cell_type": "markdown",
      "source": [
        "Convert Non-Numerical Values"
      ],
      "metadata": {
        "id": "T4c55Nug3qi8"
      }
    },
    {
      "cell_type": "code",
      "source": [
        "import numpy as np\n",
        "\n",
        "# Replace 'Not Available' with NaN and convert columns to float to ensure consistency and allow operations\n",
        "df[['Denominator', 'Score', 'Lower Estimate', 'Higher Estimate']] = df[['Denominator', 'Score', 'Lower Estimate', 'Higher Estimate']].replace('Not Available', np.nan).astype(float)\n",
        "\n",
        "# Verify conversion\n",
        "df[['Denominator', 'Score', 'Lower Estimate', 'Higher Estimate']].info()\n"
      ],
      "metadata": {
        "colab": {
          "base_uri": "https://localhost:8080/"
        },
        "id": "zIfYvKjh3os5",
        "outputId": "c0cf655a-7504-421a-c3ba-3fbd2d3f7f60"
      },
      "execution_count": 13,
      "outputs": [
        {
          "output_type": "stream",
          "name": "stdout",
          "text": [
            "<class 'pandas.core.frame.DataFrame'>\n",
            "RangeIndex: 64764 entries, 0 to 64763\n",
            "Data columns (total 4 columns):\n",
            " #   Column           Non-Null Count  Dtype  \n",
            "---  ------           --------------  -----  \n",
            " 0   Denominator      41785 non-null  float64\n",
            " 1   Score            41785 non-null  float64\n",
            " 2   Lower Estimate   41785 non-null  float64\n",
            " 3   Higher Estimate  41785 non-null  float64\n",
            "dtypes: float64(4)\n",
            "memory usage: 2.0 MB\n"
          ]
        }
      ]
    },
    {
      "cell_type": "markdown",
      "source": [
        "Descriptive statistics"
      ],
      "metadata": {
        "id": "oHYwU8ft4RuP"
      }
    },
    {
      "cell_type": "code",
      "source": [
        "# Calculate descriptive statistics\n",
        "descriptive_stats = df[['Denominator', 'Score', 'Lower Estimate', 'Higher Estimate']].describe()\n",
        "descriptive_stats\n"
      ],
      "metadata": {
        "colab": {
          "base_uri": "https://localhost:8080/",
          "height": 300
        },
        "id": "BSnjgSGU4Vc4",
        "outputId": "a2ab8e7b-5434-49a0-eab5-0a1619ed67d5"
      },
      "execution_count": 14,
      "outputs": [
        {
          "output_type": "execute_result",
          "data": {
            "text/plain": [
              "        Denominator         Score  Lower Estimate  Higher Estimate\n",
              "count  41785.000000  41785.000000    41785.000000     41785.000000\n",
              "mean     389.236688     14.512662       11.846143        17.728362\n",
              "std      803.002904      4.953454        4.543540         5.431555\n",
              "min       25.000000      1.400000        0.800000         2.200000\n",
              "25%       77.000000     12.100000        9.300000        15.400000\n",
              "50%      178.000000     15.200000       12.500000        18.000000\n",
              "75%      387.000000     17.600000       14.900000        21.300000\n",
              "max    26526.000000     31.300000       27.600000        35.300000"
            ],
            "text/html": [
              "\n",
              "  <div id=\"df-6b033639-c7d6-4d7c-9b09-152aed8ddc20\" class=\"colab-df-container\">\n",
              "    <div>\n",
              "<style scoped>\n",
              "    .dataframe tbody tr th:only-of-type {\n",
              "        vertical-align: middle;\n",
              "    }\n",
              "\n",
              "    .dataframe tbody tr th {\n",
              "        vertical-align: top;\n",
              "    }\n",
              "\n",
              "    .dataframe thead th {\n",
              "        text-align: right;\n",
              "    }\n",
              "</style>\n",
              "<table border=\"1\" class=\"dataframe\">\n",
              "  <thead>\n",
              "    <tr style=\"text-align: right;\">\n",
              "      <th></th>\n",
              "      <th>Denominator</th>\n",
              "      <th>Score</th>\n",
              "      <th>Lower Estimate</th>\n",
              "      <th>Higher Estimate</th>\n",
              "    </tr>\n",
              "  </thead>\n",
              "  <tbody>\n",
              "    <tr>\n",
              "      <th>count</th>\n",
              "      <td>41785.000000</td>\n",
              "      <td>41785.000000</td>\n",
              "      <td>41785.000000</td>\n",
              "      <td>41785.000000</td>\n",
              "    </tr>\n",
              "    <tr>\n",
              "      <th>mean</th>\n",
              "      <td>389.236688</td>\n",
              "      <td>14.512662</td>\n",
              "      <td>11.846143</td>\n",
              "      <td>17.728362</td>\n",
              "    </tr>\n",
              "    <tr>\n",
              "      <th>std</th>\n",
              "      <td>803.002904</td>\n",
              "      <td>4.953454</td>\n",
              "      <td>4.543540</td>\n",
              "      <td>5.431555</td>\n",
              "    </tr>\n",
              "    <tr>\n",
              "      <th>min</th>\n",
              "      <td>25.000000</td>\n",
              "      <td>1.400000</td>\n",
              "      <td>0.800000</td>\n",
              "      <td>2.200000</td>\n",
              "    </tr>\n",
              "    <tr>\n",
              "      <th>25%</th>\n",
              "      <td>77.000000</td>\n",
              "      <td>12.100000</td>\n",
              "      <td>9.300000</td>\n",
              "      <td>15.400000</td>\n",
              "    </tr>\n",
              "    <tr>\n",
              "      <th>50%</th>\n",
              "      <td>178.000000</td>\n",
              "      <td>15.200000</td>\n",
              "      <td>12.500000</td>\n",
              "      <td>18.000000</td>\n",
              "    </tr>\n",
              "    <tr>\n",
              "      <th>75%</th>\n",
              "      <td>387.000000</td>\n",
              "      <td>17.600000</td>\n",
              "      <td>14.900000</td>\n",
              "      <td>21.300000</td>\n",
              "    </tr>\n",
              "    <tr>\n",
              "      <th>max</th>\n",
              "      <td>26526.000000</td>\n",
              "      <td>31.300000</td>\n",
              "      <td>27.600000</td>\n",
              "      <td>35.300000</td>\n",
              "    </tr>\n",
              "  </tbody>\n",
              "</table>\n",
              "</div>\n",
              "    <div class=\"colab-df-buttons\">\n",
              "\n",
              "  <div class=\"colab-df-container\">\n",
              "    <button class=\"colab-df-convert\" onclick=\"convertToInteractive('df-6b033639-c7d6-4d7c-9b09-152aed8ddc20')\"\n",
              "            title=\"Convert this dataframe to an interactive table.\"\n",
              "            style=\"display:none;\">\n",
              "\n",
              "  <svg xmlns=\"http://www.w3.org/2000/svg\" height=\"24px\" viewBox=\"0 -960 960 960\">\n",
              "    <path d=\"M120-120v-720h720v720H120Zm60-500h600v-160H180v160Zm220 220h160v-160H400v160Zm0 220h160v-160H400v160ZM180-400h160v-160H180v160Zm440 0h160v-160H620v160ZM180-180h160v-160H180v160Zm440 0h160v-160H620v160Z\"/>\n",
              "  </svg>\n",
              "    </button>\n",
              "\n",
              "  <style>\n",
              "    .colab-df-container {\n",
              "      display:flex;\n",
              "      gap: 12px;\n",
              "    }\n",
              "\n",
              "    .colab-df-convert {\n",
              "      background-color: #E8F0FE;\n",
              "      border: none;\n",
              "      border-radius: 50%;\n",
              "      cursor: pointer;\n",
              "      display: none;\n",
              "      fill: #1967D2;\n",
              "      height: 32px;\n",
              "      padding: 0 0 0 0;\n",
              "      width: 32px;\n",
              "    }\n",
              "\n",
              "    .colab-df-convert:hover {\n",
              "      background-color: #E2EBFA;\n",
              "      box-shadow: 0px 1px 2px rgba(60, 64, 67, 0.3), 0px 1px 3px 1px rgba(60, 64, 67, 0.15);\n",
              "      fill: #174EA6;\n",
              "    }\n",
              "\n",
              "    .colab-df-buttons div {\n",
              "      margin-bottom: 4px;\n",
              "    }\n",
              "\n",
              "    [theme=dark] .colab-df-convert {\n",
              "      background-color: #3B4455;\n",
              "      fill: #D2E3FC;\n",
              "    }\n",
              "\n",
              "    [theme=dark] .colab-df-convert:hover {\n",
              "      background-color: #434B5C;\n",
              "      box-shadow: 0px 1px 3px 1px rgba(0, 0, 0, 0.15);\n",
              "      filter: drop-shadow(0px 1px 2px rgba(0, 0, 0, 0.3));\n",
              "      fill: #FFFFFF;\n",
              "    }\n",
              "  </style>\n",
              "\n",
              "    <script>\n",
              "      const buttonEl =\n",
              "        document.querySelector('#df-6b033639-c7d6-4d7c-9b09-152aed8ddc20 button.colab-df-convert');\n",
              "      buttonEl.style.display =\n",
              "        google.colab.kernel.accessAllowed ? 'block' : 'none';\n",
              "\n",
              "      async function convertToInteractive(key) {\n",
              "        const element = document.querySelector('#df-6b033639-c7d6-4d7c-9b09-152aed8ddc20');\n",
              "        const dataTable =\n",
              "          await google.colab.kernel.invokeFunction('convertToInteractive',\n",
              "                                                    [key], {});\n",
              "        if (!dataTable) return;\n",
              "\n",
              "        const docLinkHtml = 'Like what you see? Visit the ' +\n",
              "          '<a target=\"_blank\" href=https://colab.research.google.com/notebooks/data_table.ipynb>data table notebook</a>'\n",
              "          + ' to learn more about interactive tables.';\n",
              "        element.innerHTML = '';\n",
              "        dataTable['output_type'] = 'display_data';\n",
              "        await google.colab.output.renderOutput(dataTable, element);\n",
              "        const docLink = document.createElement('div');\n",
              "        docLink.innerHTML = docLinkHtml;\n",
              "        element.appendChild(docLink);\n",
              "      }\n",
              "    </script>\n",
              "  </div>\n",
              "\n",
              "\n",
              "<div id=\"df-0d460dec-8489-4bf8-872f-875cebb505d4\">\n",
              "  <button class=\"colab-df-quickchart\" onclick=\"quickchart('df-0d460dec-8489-4bf8-872f-875cebb505d4')\"\n",
              "            title=\"Suggest charts\"\n",
              "            style=\"display:none;\">\n",
              "\n",
              "<svg xmlns=\"http://www.w3.org/2000/svg\" height=\"24px\"viewBox=\"0 0 24 24\"\n",
              "     width=\"24px\">\n",
              "    <g>\n",
              "        <path d=\"M19 3H5c-1.1 0-2 .9-2 2v14c0 1.1.9 2 2 2h14c1.1 0 2-.9 2-2V5c0-1.1-.9-2-2-2zM9 17H7v-7h2v7zm4 0h-2V7h2v10zm4 0h-2v-4h2v4z\"/>\n",
              "    </g>\n",
              "</svg>\n",
              "  </button>\n",
              "\n",
              "<style>\n",
              "  .colab-df-quickchart {\n",
              "      --bg-color: #E8F0FE;\n",
              "      --fill-color: #1967D2;\n",
              "      --hover-bg-color: #E2EBFA;\n",
              "      --hover-fill-color: #174EA6;\n",
              "      --disabled-fill-color: #AAA;\n",
              "      --disabled-bg-color: #DDD;\n",
              "  }\n",
              "\n",
              "  [theme=dark] .colab-df-quickchart {\n",
              "      --bg-color: #3B4455;\n",
              "      --fill-color: #D2E3FC;\n",
              "      --hover-bg-color: #434B5C;\n",
              "      --hover-fill-color: #FFFFFF;\n",
              "      --disabled-bg-color: #3B4455;\n",
              "      --disabled-fill-color: #666;\n",
              "  }\n",
              "\n",
              "  .colab-df-quickchart {\n",
              "    background-color: var(--bg-color);\n",
              "    border: none;\n",
              "    border-radius: 50%;\n",
              "    cursor: pointer;\n",
              "    display: none;\n",
              "    fill: var(--fill-color);\n",
              "    height: 32px;\n",
              "    padding: 0;\n",
              "    width: 32px;\n",
              "  }\n",
              "\n",
              "  .colab-df-quickchart:hover {\n",
              "    background-color: var(--hover-bg-color);\n",
              "    box-shadow: 0 1px 2px rgba(60, 64, 67, 0.3), 0 1px 3px 1px rgba(60, 64, 67, 0.15);\n",
              "    fill: var(--button-hover-fill-color);\n",
              "  }\n",
              "\n",
              "  .colab-df-quickchart-complete:disabled,\n",
              "  .colab-df-quickchart-complete:disabled:hover {\n",
              "    background-color: var(--disabled-bg-color);\n",
              "    fill: var(--disabled-fill-color);\n",
              "    box-shadow: none;\n",
              "  }\n",
              "\n",
              "  .colab-df-spinner {\n",
              "    border: 2px solid var(--fill-color);\n",
              "    border-color: transparent;\n",
              "    border-bottom-color: var(--fill-color);\n",
              "    animation:\n",
              "      spin 1s steps(1) infinite;\n",
              "  }\n",
              "\n",
              "  @keyframes spin {\n",
              "    0% {\n",
              "      border-color: transparent;\n",
              "      border-bottom-color: var(--fill-color);\n",
              "      border-left-color: var(--fill-color);\n",
              "    }\n",
              "    20% {\n",
              "      border-color: transparent;\n",
              "      border-left-color: var(--fill-color);\n",
              "      border-top-color: var(--fill-color);\n",
              "    }\n",
              "    30% {\n",
              "      border-color: transparent;\n",
              "      border-left-color: var(--fill-color);\n",
              "      border-top-color: var(--fill-color);\n",
              "      border-right-color: var(--fill-color);\n",
              "    }\n",
              "    40% {\n",
              "      border-color: transparent;\n",
              "      border-right-color: var(--fill-color);\n",
              "      border-top-color: var(--fill-color);\n",
              "    }\n",
              "    60% {\n",
              "      border-color: transparent;\n",
              "      border-right-color: var(--fill-color);\n",
              "    }\n",
              "    80% {\n",
              "      border-color: transparent;\n",
              "      border-right-color: var(--fill-color);\n",
              "      border-bottom-color: var(--fill-color);\n",
              "    }\n",
              "    90% {\n",
              "      border-color: transparent;\n",
              "      border-bottom-color: var(--fill-color);\n",
              "    }\n",
              "  }\n",
              "</style>\n",
              "\n",
              "  <script>\n",
              "    async function quickchart(key) {\n",
              "      const quickchartButtonEl =\n",
              "        document.querySelector('#' + key + ' button');\n",
              "      quickchartButtonEl.disabled = true;  // To prevent multiple clicks.\n",
              "      quickchartButtonEl.classList.add('colab-df-spinner');\n",
              "      try {\n",
              "        const charts = await google.colab.kernel.invokeFunction(\n",
              "            'suggestCharts', [key], {});\n",
              "      } catch (error) {\n",
              "        console.error('Error during call to suggestCharts:', error);\n",
              "      }\n",
              "      quickchartButtonEl.classList.remove('colab-df-spinner');\n",
              "      quickchartButtonEl.classList.add('colab-df-quickchart-complete');\n",
              "    }\n",
              "    (() => {\n",
              "      let quickchartButtonEl =\n",
              "        document.querySelector('#df-0d460dec-8489-4bf8-872f-875cebb505d4 button');\n",
              "      quickchartButtonEl.style.display =\n",
              "        google.colab.kernel.accessAllowed ? 'block' : 'none';\n",
              "    })();\n",
              "  </script>\n",
              "</div>\n",
              "    </div>\n",
              "  </div>\n"
            ],
            "application/vnd.google.colaboratory.intrinsic+json": {
              "type": "dataframe",
              "variable_name": "descriptive_stats",
              "summary": "{\n  \"name\": \"descriptive_stats\",\n  \"rows\": 8,\n  \"fields\": [\n    {\n      \"column\": \"Denominator\",\n      \"properties\": {\n        \"dtype\": \"number\",\n        \"std\": 16191.33988684757,\n        \"min\": 25.0,\n        \"max\": 41785.0,\n        \"num_unique_values\": 8,\n        \"samples\": [\n          389.23668780662916,\n          178.0,\n          41785.0\n        ],\n        \"semantic_type\": \"\",\n        \"description\": \"\"\n      }\n    },\n    {\n      \"column\": \"Score\",\n      \"properties\": {\n        \"dtype\": \"number\",\n        \"std\": 14768.328545741682,\n        \"min\": 1.4,\n        \"max\": 41785.0,\n        \"num_unique_values\": 8,\n        \"samples\": [\n          14.512662438674163,\n          15.2,\n          41785.0\n        ],\n        \"semantic_type\": \"\",\n        \"description\": \"\"\n      }\n    },\n    {\n      \"column\": \"Lower Estimate\",\n      \"properties\": {\n        \"dtype\": \"number\",\n        \"std\": 14769.114700821303,\n        \"min\": 0.8,\n        \"max\": 41785.0,\n        \"num_unique_values\": 8,\n        \"samples\": [\n          11.846143352877826,\n          12.5,\n          41785.0\n        ],\n        \"semantic_type\": \"\",\n        \"description\": \"\"\n      }\n    },\n    {\n      \"column\": \"Higher Estimate\",\n      \"properties\": {\n        \"dtype\": \"number\",\n        \"std\": 14767.405296938008,\n        \"min\": 2.2,\n        \"max\": 41785.0,\n        \"num_unique_values\": 8,\n        \"samples\": [\n          17.728361852339354,\n          18.0,\n          41785.0\n        ],\n        \"semantic_type\": \"\",\n        \"description\": \"\"\n      }\n    }\n  ]\n}"
            }
          },
          "metadata": {},
          "execution_count": 14
        }
      ]
    },
    {
      "cell_type": "markdown",
      "source": [
        "Visualise Data: histograms and Blox Plots"
      ],
      "metadata": {
        "id": "JcSP-xzZ4dd_"
      }
    },
    {
      "cell_type": "code",
      "source": [
        "#Environment\n",
        "import matplotlib.pyplot as plt\n",
        "import seaborn as sns"
      ],
      "metadata": {
        "id": "vZ09VmH_4g6Y"
      },
      "execution_count": 15,
      "outputs": []
    },
    {
      "cell_type": "code",
      "source": [
        "# Histogram of Scores good for frequency distribution of a single variable\n",
        "plt.figure(figsize=(10, 6))\n",
        "sns.histplot(df['Score'].dropna(), bins=30, kde=True)\n",
        "plt.title('Distribution of Scores')\n",
        "plt.xlabel('Score')\n",
        "plt.ylabel('Frequency')\n",
        "plt.show()"
      ],
      "metadata": {
        "colab": {
          "base_uri": "https://localhost:8080/",
          "height": 564
        },
        "id": "T2QEL2cW4rP5",
        "outputId": "0d0adc27-ff9c-4b79-b977-a02f3edfc3ae"
      },
      "execution_count": 16,
      "outputs": [
        {
          "output_type": "display_data",
          "data": {
            "text/plain": [
              "<Figure size 1000x600 with 1 Axes>"
            ],
            "image/png": "[encoded data removed]"
          },
          "metadata": {}
        }
      ]
    },
    {
      "cell_type": "markdown",
      "source": [
        "Interpretation of histogram:represents readmission rates in hospitals. right-skewed, peak around mean value 14.5. Multiple peaks probably other subgroups wihtin the data. Most scoreas are between 5 and 20, few outliers beyond 25"
      ],
      "metadata": {
        "id": "zsaAo_Mc5qeC"
      }
    },
    {
      "cell_type": "code",
      "source": [
        "# Box Plot of Scores display distribution and identify potential outliers\n",
        "plt.figure(figsize=(10, 6))\n",
        "sns.boxplot(x=df['Score'])\n",
        "plt.title('Box Plot of Scores')\n",
        "plt.xlabel('Score')\n",
        "plt.show()"
      ],
      "metadata": {
        "colab": {
          "base_uri": "https://localhost:8080/",
          "height": 564
        },
        "id": "mxduxUN94wf5",
        "outputId": "c308c974-814c-46a6-edb2-7a53c5d2413a"
      },
      "execution_count": 17,
      "outputs": [
        {
          "output_type": "display_data",
          "data": {
            "text/plain": [
              "<Figure size 1000x600 with 1 Axes>"
            ],
            "image/png": "[encoded data removed]"
          },
          "metadata": {}
        }
      ]
    },
    {
      "cell_type": "markdown",
      "source": [
        "Interpretation Box Plot: it shows the spread of the score and highlights potential outliers.\n",
        "Median score is around 15.2.\n",
        "The IQE is between 12.1 and 17.6 , showing where the middle 50% of scores lie.\n",
        "Outliers are present on both ends beyong the whiskers, which represents 1.5 times the IQR from the quartiles."
      ],
      "metadata": {
        "id": "MKgS00b56Qdt"
      }
    },
    {
      "cell_type": "markdown",
      "source": [
        "Descriptive Statistics Summary:\n",
        "\n",
        "Count: There are 41,785 non-null entries for each column after cleaning.\n",
        "Mean:\n",
        "Denominator: 389.24 (average number of cases).\n",
        "Score: 14.51 (average readmission rate).\n",
        "Lower Estimate: 11.85 (average lower confidence interval for the score).\n",
        "Higher Estimate: 17.73 (average higher confidence interval for the score).\n",
        "\n",
        "Standard Deviation:\n",
        "Denominator: 803.00 (high variability in the number of cases).\n",
        "Score: 4.95 (moderate variability in readmission rates).\n",
        "Lower Estimate: 4.54.\n",
        "Higher Estimate: 5.43.\n",
        "\n",
        "Quartiles:\n",
        "Denominator: The middle 50% of data ranges from 77 to 387.\n",
        "Score: The middle 50% of readmission rates range from 12.1 to 17.6.\n",
        "Lower Estimate: Ranges from 9.3 to 14.9.\n",
        "Higher Estimate: Ranges from 15.4 to 21.3."
      ],
      "metadata": {
        "id": "hyUKCasN6_Iw"
      }
    },
    {
      "cell_type": "markdown",
      "source": [
        "Advanced Analysis"
      ],
      "metadata": {
        "id": "6dwsom_s7OQr"
      }
    },
    {
      "cell_type": "code",
      "source": [],
      "metadata": {
        "id": "0XsiYHz67o7g"
      },
      "execution_count": null,
      "outputs": []
    }
  ]
}